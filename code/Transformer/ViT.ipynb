{
  "nbformat": 4,
  "nbformat_minor": 0,
  "metadata": {
    "colab": {
      "provenance": []
    },
    "kernelspec": {
      "name": "python3",
      "display_name": "Python 3"
    },
    "language_info": {
      "name": "python"
    }
  },
  "cells": [
    {
      "cell_type": "code",
      "execution_count": null,
      "metadata": {
        "id": "yz21uINT2ZAY"
      },
      "outputs": [],
      "source": [
        "import torch\n",
        "import torch.nn as nn"
      ]
    },
    {
      "cell_type": "markdown",
      "source": [
        "## PatchEmbed"
      ],
      "metadata": {
        "id": "G7TH6K017-2k"
      }
    },
    {
      "cell_type": "code",
      "source": [
        "class PatchEmbed(nn.Module):\n",
        "  def __init__(self,img_size=224,patch_size=16,in_c=3,embed_dim=768,norm_layer=None):\n",
        "    # image_size 图像大小 patch_size 每个patch的大小\n",
        "    super().__init__()\n",
        "    img_size = (img_size, img_size) # 将输入大小变为二维元组\n",
        "    patch_size = (patch_size, patch_size)\n",
        "    self.img_size = img_size\n",
        "    self.patch_size = patch_size\n",
        "    self.grid_size = (img_size[0]//patch_size[0], img_size[1]//patch_size[1]) # patch的网格大小\n",
        "    self.num_patches = self.grid_size[0] * self.grid_size[1] # patch的总数 14*14=196\n",
        "\n",
        "    self.proj = nn.Conv2d(in_c,embed_dim,kernel_size=patch_size,stride=patch_size) # B,3,224,224->B,768,14,14\n",
        "    self.norm = norm_layer(embed_dim) if norm_layer else nn.Identity() # 若有layer_norm则使用 若无则保持不变\n",
        "\n",
        "  def forward(self,x):\n",
        "    B,C,H,W = x.shape # 获取我们输入张量的形状\n",
        "    assert H==self.img_size[0] and W==self.img_size[1],\\\n",
        "    f\"输入图像的大小{H}*{W}与模型期望大小{self.img_size[0]}*{self.img_size[1]}不匹配\"\n",
        "    # B,3,224,224 -> B,768,14,14 -> B,768,196 -> B,196,768\n",
        "    x = self.proj(x).flatten(2).transpose(1,2)\n",
        "    x = self.norm(x) # 若有归一化层 则使用\n",
        "    return x\n",
        ""
      ],
      "metadata": {
        "id": "l2rn29mR3h74"
      },
      "execution_count": null,
      "outputs": []
    }
  ]
}