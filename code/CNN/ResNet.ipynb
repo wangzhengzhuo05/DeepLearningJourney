{
  "cells": [
    {
      "cell_type": "code",
      "execution_count": 1,
      "metadata": {
        "id": "h81YKj-rTzIC"
      },
      "outputs": [],
      "source": [
        "import torch\n",
        "import torch.nn as nn"
      ]
    },
    {
      "cell_type": "code",
      "execution_count": null,
      "metadata": {
        "id": "MCLpEMjVVxY4"
      },
      "outputs": [],
      "source": [
        "class block(nn.Module):\n",
        "  def __init__(self,in_channels,out_channels,identity_downsample=None,stride=1):\n",
        "    \"\"\"\n",
        "    ResNet 的 Bottleneck 残差块\n",
        "\n",
        "    参数:\n",
        "    ----------\n",
        "    in_channels: int\n",
        "        输入特征图的通道数（上一层的输出通道数）\n",
        "\n",
        "    out_channels: int\n",
        "        Bottleneck 中间的基础通道数，最后输出会乘以 expansion (默认4)\n",
        "\n",
        "    identity_downsample: nn.Sequential 或 None\n",
        "        对捷径分支(identity)进行下采样或通道匹配时使用的操作，\n",
        "        当 stride != 1 或者 in_channels != out_channels * expansion 时需要传入\n",
        "\n",
        "    stride: int, 默认1\n",
        "        卷积层的步幅\n",
        "        - stride=1: 保持 feature map 尺寸不变\n",
        "        - stride=2: 在当前 block 开始时将 feature map 尺寸减半（通常在 layer 的第一个 block）\n",
        "    \"\"\"\n",
        "    super(block,self).__init__()\n",
        "\n",
        "    # Bottleneck 中输出通道扩张倍数\n",
        "    # 最后一个 conv3 输出的通道数 = out_channels * expansion\n",
        "    self.expansion = 4\n",
        "\n",
        "    # 第一个 1x1 卷积，用于降维 (减少计算量)，不改变 H 和 W\n",
        "    self.conv1 = nn.Conv2d(in_channels,out_channels,kernel_size=1,stride=1,padding=0)\n",
        "    self.bn1 = nn.BatchNorm2d(out_channels)   # 批量归一化，稳定训练\n",
        "\n",
        "    # 第二个 3x3 卷积，用于特征提取\n",
        "    # stride 可以是 1 或 2，当 stride=2 时 spatial size 减半\n",
        "    self.conv2 = nn.Conv2d(out_channels,out_channels,kernel_size=3,stride=stride,padding=1)\n",
        "    self.bn2 = nn.BatchNorm2d(out_channels)\n",
        "\n",
        "    # 第三个 1x1 卷积，用于升维 (out_channels -> out_channels * 4)\n",
        "    # 这样残差块输出的通道数会变成 4 倍，以适应后续网络结构\n",
        "    self.conv3 = nn.Conv2d(out_channels,out_channels*self.expansion,kernel_size=1,stride=1,padding=0)  # 增大channel深度（*4），捕捉更多特征\n",
        "    self.bn3 = nn.BatchNorm2d(out_channels*self.expansion)\n",
        "\n",
        "    # 激活函数\n",
        "    self.relu = nn.ReLU()\n",
        "\n",
        "    # 可能的下采样分支，当尺寸或通道数不一致时需要使用\n",
        "    self.identity_downsample = identity_downsample \n",
        "\n",
        "  def forward(self, x):\n",
        "    \"\"\"\n",
        "    前向传播流程:\n",
        "    1. 先保存输入 x 作为 identity\n",
        "    2. 主分支 (conv1 -> bn1 -> relu -> conv2 -> bn2 -> relu -> conv3 -> bn3)\n",
        "    3. 如果需要，下采样 identity (使其与主分支输出形状一致)\n",
        "    4. 主分支输出 + identity 相加\n",
        "    5. 再通过 ReLU 激活\n",
        "    \"\"\"\n",
        "    identity = x  # 保存捷径分支\n",
        "\n",
        "    # --- 主分支 ---\n",
        "    # 1x1 降维\n",
        "    x = self.conv1(x)\n",
        "    x = self.bn1(x)\n",
        "    x = self.relu(x)\n",
        "\n",
        "    # 3x3 特征提取\n",
        "    x = self.conv2(x)\n",
        "    x = self.bn2(x)\n",
        "    x = self.relu(x)\n",
        "\n",
        "    # 1x1 升维\n",
        "    x = self.conv3(x)\n",
        "    x = self.bn3(x)\n",
        "\n",
        "    # --- 捷径分支 (identity mapping) ---\n",
        "    # 当尺寸或通道数不匹配时，对 identity 进行变换\n",
        "    if self.identity_downsample is not None:\n",
        "      identity = self.identity_downsample(identity)\n",
        "\n",
        "    # --- 残差相加 ---\n",
        "    x += identity    # F(x) + identity\n",
        "    x = self.relu(x)   # 最终激活\n",
        "    return x\n",
        "\n"
      ]
    },
    {
      "cell_type": "code",
      "execution_count": null,
      "metadata": {
        "id": "cXKFYBY0pc9x"
      },
      "outputs": [],
      "source": [
        "class ResNet(nn.Module):  # layers = [3, 4, 6, 3] 对应每一层 block 的数量\n",
        "  def __init__(self,block,layers,image_channels,num_classes):\n",
        "    super(ResNet,self).__init__()\n",
        "    self.in_channels = 64\n",
        "    # 初始卷积：将输入图像（3通道）转换为 64 通道，步幅2，下采样\n",
        "    self.conv1 = nn.Conv2d(image_channels,64,kernel_size=7,stride=2,padding=3)\n",
        "    self.bn1 = nn.BatchNorm2d(64)\n",
        "    self.relu = nn.ReLU()\n",
        "    # 最大池化进一步下采样\n",
        "    self.maxpool = nn.MaxPool2d(kernel_size=3,stride=2,padding=1)\n",
        "\n",
        "    # ResNet 四个主要 layer，每层包含多个残差块\n",
        "    self.layer1 = self._make_layer(block,layers[0],out_channels=64,stride=1)\n",
        "    self.layer2 = self._make_layer(block,layers[1],out_channels=128,stride=2)\n",
        "    self.layer3 = self._make_layer(block,layers[2],out_channels=256,stride=2)\n",
        "    self.layer4 = self._make_layer(block,layers[3],out_channels=512,stride=2)\n",
        "\n",
        "    # 自适应池化到 1×1\n",
        "    self.avgpool = nn.AdaptiveAvgPool2d((1,1))\n",
        "\n",
        "    # 全连接层，注意 block 是 Bottleneck，每个最终输出为 512 * 4\n",
        "    self.fc = nn.Linear(512*4,num_classes)\n",
        "\n",
        "  def forward(self,x):\n",
        "    x = self.conv1(x)\n",
        "    x = self.bn1(x)\n",
        "    x = self.relu(x)\n",
        "    x = self.maxpool(x)\n",
        "\n",
        "     # 依次通过四个残差阶段\n",
        "    x = self.layer1(x)\n",
        "    x = self.layer2(x)\n",
        "    x = self.layer3(x)\n",
        "    x = self.layer4(x)\n",
        "\n",
        "    x = self.avgpool(x)\n",
        "    x = x.reshape(x.shape[0],-1)\n",
        "    x = self.fc(x)\n",
        "\n",
        "    return x\n",
        "\n",
        "\n",
        "  def _make_layer(self,block,num_residual_blocks,out_channels,stride):\n",
        "    \"\"\"\n",
        "    block: 残差模块类型 (BasicBlock 或 Bottleneck)\n",
        "    num_residual_blocks: 当前 stage 的 block 数量\n",
        "    out_channels: 每个 block 内部的中间维度\n",
        "    stride: 第一个 block 是否下采样，stride=2 表示 spatial size 减半\n",
        "    \"\"\"\n",
        "    identity_downsample = None\n",
        "    layers = []\n",
        "\n",
        "\n",
        "    # 当下采样 (stride != 1) 或 通道数不匹配时，用 1x1 卷积调整 identity\n",
        "    # 这样才能保证 F(x) + identity 的维度一致\n",
        "    if stride != 1 or self.in_channels != out_channels * 4:\n",
        "      identity_downsample = nn.Sequential(nn.Conv2d(self.in_channels,out_channels*4,kernel_size=1,stride=stride),\n",
        "                                          nn.BatchNorm2d(out_channels*4)) \n",
        "    \n",
        "     # 第一个 block 可能需要下采样或通道匹配\n",
        "    layers.append(block(self.in_channels,out_channels,identity_downsample,stride))\n",
        "    # 更新 in_channels 为当前 block 输出的通道数 (Bottleneck 输出为 out_channels * 4)\n",
        "    self.in_channels = out_channels * 4\n",
        "\n",
        "    # 其余 block 只需要保持 stride=1，不改变 feature map 尺寸\n",
        "    for i in range(num_residual_blocks - 1): \n",
        "      layers.append(block(self.in_channels,out_channels)) # 256 -> 64, 64*4(256) again\n",
        "    \n",
        "    # *layers 将列表拆开作为多个参数传递给 nn.Sequential\n",
        "    return nn.Sequential(*layers)"
      ]
    },
    {
      "cell_type": "code",
      "execution_count": 4,
      "metadata": {
        "id": "tID3DKTYKdgE"
      },
      "outputs": [],
      "source": [
        "def ResNet50(img_channels=3,num_classes=1000):\n",
        "  return ResNet(block,[3,4,6,3],img_channels,num_classes)\n",
        "\n",
        "def ResNet101(img_channels=3,num_classes=1000):\n",
        "  return ResNet(block,[3,4,23,3],img_channels,num_classes)\n",
        "\n",
        "def ResNet152(img_channels=3,num_classes=1000):\n",
        "  return ResNet(block,[3,8,36,3],img_channels,num_classes)"
      ]
    },
    {
      "cell_type": "code",
      "execution_count": 11,
      "metadata": {
        "colab": {
          "base_uri": "https://localhost:8080/"
        },
        "id": "63Kflz01LNvf",
        "outputId": "1d1cbe43-9775-4955-a807-deea2cb6e2fa"
      },
      "outputs": [
        {
          "name": "stdout",
          "output_type": "stream",
          "text": [
            "torch.Size([2, 1000])\n"
          ]
        }
      ],
      "source": [
        "def test():\n",
        "  net = ResNet50()\n",
        "  x = torch.randn(2,3,224,224)\n",
        "  y = net(x).to('cuda')\n",
        "  print(y.shape)\n",
        "\n",
        "\n",
        "test()"
      ]
    }
  ],
  "metadata": {
    "accelerator": "GPU",
    "colab": {
      "gpuType": "T4",
      "provenance": []
    },
    "kernelspec": {
      "display_name": "Python 3",
      "name": "python3"
    },
    "language_info": {
      "name": "python"
    }
  },
  "nbformat": 4,
  "nbformat_minor": 0
}
