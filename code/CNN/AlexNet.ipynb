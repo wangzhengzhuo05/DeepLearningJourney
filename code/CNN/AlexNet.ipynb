{
  "cells": [
    {
      "cell_type": "code",
      "execution_count": 35,
      "metadata": {
        "colab": {
          "base_uri": "https://localhost:8080/"
        },
        "id": "XFjFIodk1IE1",
        "outputId": "6f425505-63c9-4d4b-ab54-850ab307f5c5"
      },
      "outputs": [
        {
          "name": "stdout",
          "output_type": "stream",
          "text": [
            "Requirement already satisfied: torchinfo in /usr/local/lib/python3.12/dist-packages (1.8.0)\n"
          ]
        }
      ],
      "source": [
        "!pip install torchinfo"
      ]
    },
    {
      "cell_type": "code",
      "execution_count": 36,
      "metadata": {
        "id": "CDxOxBXCom9i"
      },
      "outputs": [],
      "source": [
        "import torch\n",
        "from torch import nn\n",
        "from torch.nn import functional as F\n",
        "from torchinfo import summary\n",
        "from torchvision import datasets, transforms\n",
        "from torch.utils.data import DataLoader\n",
        "from torch.optim.lr_scheduler import LambdaLR\n"
      ]
    },
    {
      "cell_type": "code",
      "execution_count": 37,
      "metadata": {
        "colab": {
          "base_uri": "https://localhost:8080/"
        },
        "id": "lGp-cLP2vryn",
        "outputId": "caf37b17-6e5e-4c7a-8796-c8b291f16e43"
      },
      "outputs": [
        {
          "name": "stdout",
          "output_type": "stream",
          "text": [
            "Using device: cuda\n",
            "Sun Sep 28 16:47:36 2025       \n",
            "+-----------------------------------------------------------------------------------------+\n",
            "| NVIDIA-SMI 550.54.15              Driver Version: 550.54.15      CUDA Version: 12.4     |\n",
            "|-----------------------------------------+------------------------+----------------------+\n",
            "| GPU  Name                 Persistence-M | Bus-Id          Disp.A | Volatile Uncorr. ECC |\n",
            "| Fan  Temp   Perf          Pwr:Usage/Cap |           Memory-Usage | GPU-Util  Compute M. |\n",
            "|                                         |                        |               MIG M. |\n",
            "|=========================================+========================+======================|\n",
            "|   0  Tesla T4                       Off |   00000000:00:04.0 Off |                    0 |\n",
            "| N/A   74C    P0             31W /   70W |   14864MiB /  15360MiB |      0%      Default |\n",
            "|                                         |                        |                  N/A |\n",
            "+-----------------------------------------+------------------------+----------------------+\n",
            "                                                                                         \n",
            "+-----------------------------------------------------------------------------------------+\n",
            "| Processes:                                                                              |\n",
            "|  GPU   GI   CI        PID   Type   Process name                              GPU Memory |\n",
            "|        ID   ID                                                               Usage      |\n",
            "|=========================================================================================|\n",
            "+-----------------------------------------------------------------------------------------+\n"
          ]
        }
      ],
      "source": [
        "device = torch.device(\"cuda\" if torch.cuda.is_available() else \"cpu\")\n",
        "print(\"Using device:\", device)\n",
        "if device.type == \"cuda\":\n",
        "  !nvidia-smi"
      ]
    },
    {
      "cell_type": "markdown",
      "metadata": {
        "id": "2ELwbZfLGbQM"
      },
      "source": [
        "定义模型"
      ]
    },
    {
      "cell_type": "code",
      "execution_count": null,
      "metadata": {
        "id": "N-exJqIwwMvA"
      },
      "outputs": [],
      "source": [
        "class Model(nn.Module):\n",
        "  def __init__(self): # 使用卷积神经网络\n",
        "    super().__init__()\n",
        "    self.conv1 = nn.Conv2d(3,96,kernel_size=11,stride=4)  # 卷积层\n",
        "    self.pool1 = nn.MaxPool2d(kernel_size=3,stride=2)   # 池化层\n",
        "\n",
        "    self.conv2 = nn.Conv2d(96,256,kernel_size=5,padding=2)\n",
        "    self.pool2 = nn.MaxPool2d(kernel_size=3,stride=2)\n",
        "\n",
        "    self.conv3 = nn.Conv2d(256,384,kernel_size=3,padding=1)\n",
        "    self.conv4 = nn.Conv2d(384,384,kernel_size=3,padding=1)\n",
        "    self.conv5 = nn.Conv2d(384,256,kernel_size=3,padding=1)\n",
        "    self.pool3 = nn.MaxPool2d(kernel_size=3,stride=2)\n",
        "    #FC\n",
        "    self.fc1 = nn.Linear(6*6*256,4096)\n",
        "    self.fc2 = nn.Linear(4096,4096)\n",
        "    self.fc3 = nn.Linear(4096,100)  # 最后一层输出维度为100，对应CIFAR-100数据集中100个类别的分类任务，这个网络原先为ImageNet(1000分类且数据量更大)设计，这里直接改最后一层输出维度导致过拟合\n",
        "    # CIFAR-100数据量太小而这个模型太过复杂\n",
        "\n",
        "\n",
        "  def forward(self,x):\n",
        "    x = F.relu(self.conv1(x)) # 使用ReLu激活函数，减少梯度消失问题\n",
        "    x = self.pool1(x)\n",
        "    x = F.relu(self.conv2(x))\n",
        "    x = self.pool2(x)\n",
        "    x = F.relu(self.conv3(x))\n",
        "    x = F.relu(self.conv4(x))\n",
        "    x = F.relu(self.conv5(x))\n",
        "    x = self.pool3(x)\n",
        "    x = x.view(-1,6*6*256) # 把多维特征图拉平为一维向量，送入全连接层\n",
        "    x = F.relu(F.dropout(self.fc1(x),0.5)) # Dropout以50%的概率随机置0神经元的输出，用于减少过拟合并降低神经元间的协同依赖（co-adaptation）\n",
        "    x = F.relu(F.dropout(self.fc2(x),0.5))\n",
        "    output = self.fc3(x)  # 不要加上softmax,后续使用CrossEntropyLoss作为loss函数会自动进行log-softmax。如果这里使用softmax，会导致梯度消失\n",
        "    return output"
      ]
    },
    {
      "cell_type": "code",
      "execution_count": 39,
      "metadata": {
        "id": "a3XmVZVH6WOT"
      },
      "outputs": [],
      "source": [
        "transform = transforms.Compose([   # transform将图片转化成神经网络需要的输入\n",
        "    transforms.Resize((227,227)),\n",
        "    transforms.ToTensor(),\n",
        "    transforms.Normalize(mean=[0.5071,0.4867,0.4408],std=[0.2675,0.2565,0.2761])  # 这是 CIFAR-100 数据集每个通道的均值与标准差\n",
        "])"
      ]
    },
    {
      "cell_type": "code",
      "execution_count": 40,
      "metadata": {
        "id": "TukyO4gu6W22"
      },
      "outputs": [],
      "source": [
        "train_set = datasets.CIFAR100(root='./data',train=True,download=True,transform=transform)\n",
        "test_set = datasets.CIFAR100(root='./data',train=False,download=True,transform=transform)"
      ]
    },
    {
      "cell_type": "code",
      "execution_count": 41,
      "metadata": {
        "id": "FLwv3k1E68sU"
      },
      "outputs": [],
      "source": [
        "train_loader = DataLoader(train_set,batch_size=128,shuffle=True) # 按批次从训练集中提取出数据，供模型训练\n",
        "test_loader = DataLoader(test_set,batch_size=128,shuffle=False)"
      ]
    },
    {
      "cell_type": "code",
      "execution_count": 42,
      "metadata": {
        "colab": {
          "base_uri": "https://localhost:8080/"
        },
        "id": "ZWEp8v7t7ZPM",
        "outputId": "ac90ee68-d54f-4d7f-f801-fb619dec6a25"
      },
      "outputs": [
        {
          "name": "stdout",
          "output_type": "stream",
          "text": [
            "torch.Size([128, 100])\n"
          ]
        }
      ],
      "source": [
        "# 快速测试神经网络结构是否搭建成功、数据是否兼容、能否在GPU上跑通。\n",
        "net = Model().to(device)  # 模型的全部参数和缓存转移到指定设备（通常是GPU）\n",
        "images, labels = next(iter(train_loader))\n",
        "images, labels = images.to(device), labels.to(device) # 把数据加载到指定设备\n",
        "out = net(images)\n",
        "print(out.shape)"
      ]
    },
    {
      "cell_type": "code",
      "execution_count": 43,
      "metadata": {
        "id": "lhclQwr3ErHo"
      },
      "outputs": [],
      "source": [
        "def lr_lambda(epoch):  # 自定义学习率\n",
        "  warmup_epochs = 5   # 热身\n",
        "  if epoch < warmup_epochs:\n",
        "    return (epoch + 1) / warmup_epochs\n",
        "  else:   #训练到一定程度降低学习率\n",
        "    return 0.5 ** ((epoch - warmup_epochs) // 20)"
      ]
    },
    {
      "cell_type": "code",
      "execution_count": 44,
      "metadata": {
        "id": "wiQ9t5dB8yUt"
      },
      "outputs": [],
      "source": [
        "loss_fn = nn.CrossEntropyLoss()  # 使用交叉熵损失函数（适用于多分类问题），内部会自动执行 log_softmax + NLLLoss。不需要手动添加 softmax 层\n",
        "optimizer = torch.optim.SGD(net.parameters(),lr=0.01,momentum=0.9)  #使用带动量的SGD（随机梯度下降）\n",
        "scheduler = LambdaLR(optimizer=optimizer,lr_lambda=lr_lambda)  # LambdaLR自定义学习率调度器"
      ]
    },
    {
      "cell_type": "markdown",
      "metadata": {
        "id": "lrPqDEJg9SqV"
      },
      "source": [
        "Train"
      ]
    },
    {
      "cell_type": "code",
      "execution_count": null,
      "metadata": {
        "colab": {
          "base_uri": "https://localhost:8080/"
        },
        "id": "RWC_5Vb59SYG",
        "outputId": "2dfd962d-9ac6-4430-b680-a5f4c54a53de"
      },
      "outputs": [
        {
          "name": "stdout",
          "output_type": "stream",
          "text": [
            "lr_lambda(epoch=0): 0.200000\n"
          ]
        },
        {
          "name": "stderr",
          "output_type": "stream",
          "text": [
            "Epoch 1/50: 100%|██████████| 391/391 [02:19<00:00,  2.81it/s]\n"
          ]
        },
        {
          "name": "stdout",
          "output_type": "stream",
          "text": [
            "Epoch [1/50], Loss: 4.6051\n",
            "当前学习率: 0.004000\n"
          ]
        },
        {
          "name": "stderr",
          "output_type": "stream",
          "text": [
            "Epoch 1/50: 100%|██████████| 79/79 [00:20<00:00,  3.93it/s]\n"
          ]
        },
        {
          "name": "stdout",
          "output_type": "stream",
          "text": [
            "Test Accuracy: 0.98%\n",
            "已保存模型参数：alexnet_cifar100_latest.pth\n",
            "lr_lambda(epoch=1): 0.400000\n"
          ]
        },
        {
          "name": "stderr",
          "output_type": "stream",
          "text": [
            "Epoch 2/50: 100%|██████████| 391/391 [02:12<00:00,  2.95it/s]\n"
          ]
        },
        {
          "name": "stdout",
          "output_type": "stream",
          "text": [
            "Epoch [2/50], Loss: 4.6027\n",
            "当前学习率: 0.006000\n"
          ]
        },
        {
          "name": "stderr",
          "output_type": "stream",
          "text": [
            "Epoch 2/50: 100%|██████████| 79/79 [00:19<00:00,  3.99it/s]\n"
          ]
        },
        {
          "name": "stdout",
          "output_type": "stream",
          "text": [
            "Test Accuracy: 1.53%\n",
            "已保存模型参数：alexnet_cifar100_latest.pth\n",
            "lr_lambda(epoch=2): 0.600000\n"
          ]
        },
        {
          "name": "stderr",
          "output_type": "stream",
          "text": [
            "Epoch 3/50: 100%|██████████| 391/391 [02:12<00:00,  2.96it/s]\n"
          ]
        },
        {
          "name": "stdout",
          "output_type": "stream",
          "text": [
            "Epoch [3/50], Loss: 4.2407\n",
            "当前学习率: 0.008000\n"
          ]
        },
        {
          "name": "stderr",
          "output_type": "stream",
          "text": [
            "Epoch 3/50: 100%|██████████| 79/79 [00:20<00:00,  3.92it/s]\n"
          ]
        },
        {
          "name": "stdout",
          "output_type": "stream",
          "text": [
            "Test Accuracy: 8.15%\n",
            "已保存模型参数：alexnet_cifar100_latest.pth\n",
            "lr_lambda(epoch=3): 0.800000\n"
          ]
        },
        {
          "name": "stderr",
          "output_type": "stream",
          "text": [
            "Epoch 4/50: 100%|██████████| 391/391 [02:13<00:00,  2.93it/s]\n"
          ]
        },
        {
          "name": "stdout",
          "output_type": "stream",
          "text": [
            "Epoch [4/50], Loss: 3.8041\n",
            "当前学习率: 0.010000\n"
          ]
        },
        {
          "name": "stderr",
          "output_type": "stream",
          "text": [
            "Epoch 4/50: 100%|██████████| 79/79 [00:19<00:00,  4.00it/s]\n"
          ]
        },
        {
          "name": "stdout",
          "output_type": "stream",
          "text": [
            "Test Accuracy: 14.91%\n",
            "已保存模型参数：alexnet_cifar100_latest.pth\n",
            "lr_lambda(epoch=4): 1.000000\n"
          ]
        },
        {
          "name": "stderr",
          "output_type": "stream",
          "text": [
            "Epoch 5/50: 100%|██████████| 391/391 [02:12<00:00,  2.95it/s]\n"
          ]
        },
        {
          "name": "stdout",
          "output_type": "stream",
          "text": [
            "Epoch [5/50], Loss: 3.4299\n",
            "当前学习率: 0.010000\n"
          ]
        },
        {
          "name": "stderr",
          "output_type": "stream",
          "text": [
            "Epoch 5/50: 100%|██████████| 79/79 [00:20<00:00,  3.87it/s]\n"
          ]
        },
        {
          "name": "stdout",
          "output_type": "stream",
          "text": [
            "Test Accuracy: 20.07%\n",
            "已保存模型参数：alexnet_cifar100_latest.pth\n",
            "lr_lambda(epoch=5): 1.000000\n"
          ]
        },
        {
          "name": "stderr",
          "output_type": "stream",
          "text": [
            "Epoch 6/50: 100%|██████████| 391/391 [02:12<00:00,  2.95it/s]\n"
          ]
        },
        {
          "name": "stdout",
          "output_type": "stream",
          "text": [
            "Epoch [6/50], Loss: 3.0642\n",
            "当前学习率: 0.010000\n"
          ]
        },
        {
          "name": "stderr",
          "output_type": "stream",
          "text": [
            "Epoch 6/50: 100%|██████████| 79/79 [00:20<00:00,  3.91it/s]\n"
          ]
        },
        {
          "name": "stdout",
          "output_type": "stream",
          "text": [
            "Test Accuracy: 26.59%\n",
            "已保存模型参数：alexnet_cifar100_latest.pth\n",
            "lr_lambda(epoch=6): 1.000000\n"
          ]
        },
        {
          "name": "stderr",
          "output_type": "stream",
          "text": [
            "Epoch 7/50: 100%|██████████| 391/391 [02:12<00:00,  2.95it/s]\n"
          ]
        },
        {
          "name": "stdout",
          "output_type": "stream",
          "text": [
            "Epoch [7/50], Loss: 2.7460\n",
            "当前学习率: 0.010000\n"
          ]
        },
        {
          "name": "stderr",
          "output_type": "stream",
          "text": [
            "Epoch 7/50: 100%|██████████| 79/79 [00:19<00:00,  4.01it/s]\n"
          ]
        },
        {
          "name": "stdout",
          "output_type": "stream",
          "text": [
            "Test Accuracy: 32.67%\n",
            "已保存模型参数：alexnet_cifar100_latest.pth\n",
            "lr_lambda(epoch=7): 1.000000\n"
          ]
        },
        {
          "name": "stderr",
          "output_type": "stream",
          "text": [
            "Epoch 8/50: 100%|██████████| 391/391 [02:12<00:00,  2.94it/s]\n"
          ]
        },
        {
          "name": "stdout",
          "output_type": "stream",
          "text": [
            "Epoch [8/50], Loss: 2.4291\n",
            "当前学习率: 0.010000\n"
          ]
        },
        {
          "name": "stderr",
          "output_type": "stream",
          "text": [
            "Epoch 8/50: 100%|██████████| 79/79 [00:20<00:00,  3.85it/s]\n"
          ]
        },
        {
          "name": "stdout",
          "output_type": "stream",
          "text": [
            "Test Accuracy: 35.01%\n",
            "已保存模型参数：alexnet_cifar100_latest.pth\n",
            "lr_lambda(epoch=8): 1.000000\n"
          ]
        },
        {
          "name": "stderr",
          "output_type": "stream",
          "text": [
            "Epoch 9/50: 100%|██████████| 391/391 [02:13<00:00,  2.93it/s]\n"
          ]
        },
        {
          "name": "stdout",
          "output_type": "stream",
          "text": [
            "Epoch [9/50], Loss: 2.1603\n",
            "当前学习率: 0.010000\n"
          ]
        },
        {
          "name": "stderr",
          "output_type": "stream",
          "text": [
            "Epoch 9/50: 100%|██████████| 79/79 [00:20<00:00,  3.87it/s]\n"
          ]
        },
        {
          "name": "stdout",
          "output_type": "stream",
          "text": [
            "Test Accuracy: 39.03%\n",
            "已保存模型参数：alexnet_cifar100_latest.pth\n",
            "lr_lambda(epoch=9): 1.000000\n"
          ]
        },
        {
          "name": "stderr",
          "output_type": "stream",
          "text": [
            "Epoch 10/50: 100%|██████████| 391/391 [02:12<00:00,  2.94it/s]\n"
          ]
        },
        {
          "name": "stdout",
          "output_type": "stream",
          "text": [
            "Epoch [10/50], Loss: 1.8639\n",
            "当前学习率: 0.010000\n"
          ]
        },
        {
          "name": "stderr",
          "output_type": "stream",
          "text": [
            "Epoch 10/50: 100%|██████████| 79/79 [00:19<00:00,  4.00it/s]\n"
          ]
        },
        {
          "name": "stdout",
          "output_type": "stream",
          "text": [
            "Test Accuracy: 40.95%\n",
            "已保存模型参数：alexnet_cifar100_latest.pth\n",
            "lr_lambda(epoch=10): 1.000000\n"
          ]
        },
        {
          "name": "stderr",
          "output_type": "stream",
          "text": [
            "Epoch 11/50: 100%|██████████| 391/391 [02:12<00:00,  2.96it/s]\n"
          ]
        },
        {
          "name": "stdout",
          "output_type": "stream",
          "text": [
            "Epoch [11/50], Loss: 1.6022\n",
            "当前学习率: 0.010000\n"
          ]
        },
        {
          "name": "stderr",
          "output_type": "stream",
          "text": [
            "Epoch 11/50: 100%|██████████| 79/79 [00:19<00:00,  4.02it/s]\n"
          ]
        },
        {
          "name": "stdout",
          "output_type": "stream",
          "text": [
            "Test Accuracy: 42.83%\n",
            "已保存模型参数：alexnet_cifar100_latest.pth\n",
            "lr_lambda(epoch=11): 1.000000\n"
          ]
        },
        {
          "name": "stderr",
          "output_type": "stream",
          "text": [
            "Epoch 12/50: 100%|██████████| 391/391 [02:12<00:00,  2.96it/s]\n"
          ]
        },
        {
          "name": "stdout",
          "output_type": "stream",
          "text": [
            "Epoch [12/50], Loss: 1.3309\n",
            "当前学习率: 0.010000\n"
          ]
        },
        {
          "name": "stderr",
          "output_type": "stream",
          "text": [
            "Epoch 12/50: 100%|██████████| 79/79 [00:19<00:00,  4.00it/s]\n"
          ]
        },
        {
          "name": "stdout",
          "output_type": "stream",
          "text": [
            "Test Accuracy: 42.02%\n",
            "已保存模型参数：alexnet_cifar100_latest.pth\n",
            "lr_lambda(epoch=12): 1.000000\n"
          ]
        },
        {
          "name": "stderr",
          "output_type": "stream",
          "text": [
            "Epoch 13/50: 100%|██████████| 391/391 [02:13<00:00,  2.94it/s]\n"
          ]
        },
        {
          "name": "stdout",
          "output_type": "stream",
          "text": [
            "Epoch [13/50], Loss: 1.0863\n",
            "当前学习率: 0.010000\n"
          ]
        },
        {
          "name": "stderr",
          "output_type": "stream",
          "text": [
            "Epoch 13/50: 100%|██████████| 79/79 [00:19<00:00,  3.97it/s]\n"
          ]
        },
        {
          "name": "stdout",
          "output_type": "stream",
          "text": [
            "Test Accuracy: 44.06%\n",
            "已保存模型参数：alexnet_cifar100_latest.pth\n",
            "lr_lambda(epoch=13): 1.000000\n"
          ]
        },
        {
          "name": "stderr",
          "output_type": "stream",
          "text": [
            "Epoch 14/50: 100%|██████████| 391/391 [02:12<00:00,  2.95it/s]\n"
          ]
        },
        {
          "name": "stdout",
          "output_type": "stream",
          "text": [
            "Epoch [14/50], Loss: 0.8745\n",
            "当前学习率: 0.010000\n"
          ]
        },
        {
          "name": "stderr",
          "output_type": "stream",
          "text": [
            "Epoch 14/50: 100%|██████████| 79/79 [00:20<00:00,  3.94it/s]\n"
          ]
        },
        {
          "name": "stdout",
          "output_type": "stream",
          "text": [
            "Test Accuracy: 43.33%\n",
            "已保存模型参数：alexnet_cifar100_latest.pth\n",
            "lr_lambda(epoch=14): 1.000000\n"
          ]
        },
        {
          "name": "stderr",
          "output_type": "stream",
          "text": [
            "Epoch 15/50: 100%|██████████| 391/391 [02:13<00:00,  2.92it/s]\n"
          ]
        },
        {
          "name": "stdout",
          "output_type": "stream",
          "text": [
            "Epoch [15/50], Loss: 0.7218\n",
            "当前学习率: 0.010000\n"
          ]
        },
        {
          "name": "stderr",
          "output_type": "stream",
          "text": [
            "Epoch 15/50: 100%|██████████| 79/79 [00:19<00:00,  3.98it/s]\n"
          ]
        },
        {
          "name": "stdout",
          "output_type": "stream",
          "text": [
            "Test Accuracy: 42.54%\n",
            "已保存模型参数：alexnet_cifar100_latest.pth\n",
            "lr_lambda(epoch=15): 1.000000\n"
          ]
        },
        {
          "name": "stderr",
          "output_type": "stream",
          "text": [
            "Epoch 16/50: 100%|██████████| 391/391 [02:12<00:00,  2.95it/s]\n"
          ]
        },
        {
          "name": "stdout",
          "output_type": "stream",
          "text": [
            "Epoch [16/50], Loss: 0.5868\n",
            "当前学习率: 0.010000\n"
          ]
        },
        {
          "name": "stderr",
          "output_type": "stream",
          "text": [
            "Epoch 16/50: 100%|██████████| 79/79 [00:19<00:00,  3.95it/s]\n"
          ]
        },
        {
          "name": "stdout",
          "output_type": "stream",
          "text": [
            "Test Accuracy: 42.79%\n",
            "已保存模型参数：alexnet_cifar100_latest.pth\n",
            "lr_lambda(epoch=16): 1.000000\n"
          ]
        },
        {
          "name": "stderr",
          "output_type": "stream",
          "text": [
            "Epoch 17/50: 100%|██████████| 391/391 [02:12<00:00,  2.95it/s]\n"
          ]
        },
        {
          "name": "stdout",
          "output_type": "stream",
          "text": [
            "Epoch [17/50], Loss: 0.5158\n",
            "当前学习率: 0.010000\n"
          ]
        },
        {
          "name": "stderr",
          "output_type": "stream",
          "text": [
            "Epoch 17/50: 100%|██████████| 79/79 [00:21<00:00,  3.75it/s]\n"
          ]
        },
        {
          "name": "stdout",
          "output_type": "stream",
          "text": [
            "Test Accuracy: 42.67%\n",
            "已保存模型参数：alexnet_cifar100_latest.pth\n",
            "lr_lambda(epoch=17): 1.000000\n"
          ]
        },
        {
          "name": "stderr",
          "output_type": "stream",
          "text": [
            "Epoch 18/50: 100%|██████████| 391/391 [02:11<00:00,  2.97it/s]\n"
          ]
        },
        {
          "name": "stdout",
          "output_type": "stream",
          "text": [
            "Epoch [18/50], Loss: 0.4141\n",
            "当前学习率: 0.010000\n"
          ]
        },
        {
          "name": "stderr",
          "output_type": "stream",
          "text": [
            "Epoch 18/50: 100%|██████████| 79/79 [00:20<00:00,  3.90it/s]\n"
          ]
        },
        {
          "name": "stdout",
          "output_type": "stream",
          "text": [
            "Test Accuracy: 42.06%\n",
            "已保存模型参数：alexnet_cifar100_latest.pth\n",
            "lr_lambda(epoch=18): 1.000000\n"
          ]
        },
        {
          "name": "stderr",
          "output_type": "stream",
          "text": [
            "Epoch 19/50: 100%|██████████| 391/391 [02:12<00:00,  2.96it/s]\n"
          ]
        },
        {
          "name": "stdout",
          "output_type": "stream",
          "text": [
            "Epoch [19/50], Loss: 0.3740\n",
            "当前学习率: 0.010000\n"
          ]
        },
        {
          "name": "stderr",
          "output_type": "stream",
          "text": [
            "Epoch 19/50: 100%|██████████| 79/79 [00:20<00:00,  3.92it/s]\n"
          ]
        },
        {
          "name": "stdout",
          "output_type": "stream",
          "text": [
            "Test Accuracy: 42.03%\n"
          ]
        }
      ],
      "source": [
        "from tqdm import tqdm\n",
        "\n",
        "num_epochs = 50\n",
        "\n",
        "loss_list = []\n",
        "\n",
        "for epoch in range(num_epochs):\n",
        "  print(f\"lr_lambda(epoch={epoch}): {lr_lambda(epoch):.6f}\")\n",
        "  epoch_loss = 0\n",
        "  num_batches = 0\n",
        "  for images, labels in tqdm(train_loader, desc=f\"Epoch {epoch+1}/{num_epochs}\"):\n",
        "    images, labels = images.to(device), labels.to(device) # 数据加载到指定设备\n",
        "    optimizer.zero_grad()  # 把梯度清空\n",
        "    outputs = net(images)  # 取得预测值，正向传播\n",
        "    loss = loss_fn(outputs,labels) # 计算loss函数\n",
        "    loss.backward() # 反向传播\n",
        "    optimizer.step()  # 更新模型参数\n",
        "    epoch_loss += loss.item()\n",
        "    num_batches += 1\n",
        "  avg_loss = epoch_loss / num_batches\n",
        "  loss_list.append(avg_loss)\n",
        "  print(f\"Epoch [{epoch+1}/{num_epochs}], Loss: {avg_loss:.4f}\")\n",
        "  net.eval() # 切换到评估模式（禁用dropout, BN）\n",
        "  correct = 0\n",
        "  total = 0\n",
        "  scheduler.step()  # 学习率调度器更新\n",
        "  with torch.no_grad(): # 禁用梯度计算（节省内存 & 加速 & 避免使用测试集训练）\n",
        "    for images, labels in tqdm(test_loader, desc=f\"Epoch {epoch+1}/{num_epochs}\"):\n",
        "      images, labels = images.to(device), labels.to(device)\n",
        "      outputs = net(images)\n",
        "      preds = outputs.argmax(dim=1) # 获取每行最大值索引（即预测的类别）\n",
        "      correct += (preds == labels).sum().item()\n",
        "      total += labels.size(0)\n",
        "    accuracy = correct / total\n",
        "    print(f\"Test Accuracy: {accuracy * 100:.2f}%\")\n",
        "    net.train() # 将模型改为训练模式\n",
        "\n",
        "    # 保存模型\n",
        "    torch.save(net.state_dict(), \"alexnet_cifar100_latest.pth\")\n",
        "    print(f\"已保存模型参数：alexnet_cifar100_latest.pth\")"
      ]
    },
    {
      "cell_type": "code",
      "execution_count": null,
      "metadata": {
        "id": "lxb-l4YADW5a"
      },
      "outputs": [],
      "source": [
        "torch.save(net.state_dict(), \"alexnet_cifar100.pth\")\n",
        "print(\"模型参数已保存为 alexnet_cifar100.pth\")"
      ]
    },
    {
      "cell_type": "code",
      "execution_count": null,
      "metadata": {
        "id": "7fkkJFDX_5QC"
      },
      "outputs": [],
      "source": [
        "import matplotlib.pyplot as plt\n",
        "plt.plot(loss_list, marker='o')\n",
        "plt.xlabel(\"Epoch\")\n",
        "plt.ylabel(\"Training Loss\")\n",
        "plt.title(\"Loss Curve\")\n",
        "plt.grid(True)\n",
        "plt.show()"
      ]
    },
    {
      "cell_type": "code",
      "execution_count": null,
      "metadata": {
        "id": "9hfby5G1AXHF"
      },
      "outputs": [],
      "source": []
    }
  ],
  "metadata": {
    "accelerator": "GPU",
    "colab": {
      "gpuType": "T4",
      "provenance": []
    },
    "kernelspec": {
      "display_name": "Python 3",
      "name": "python3"
    },
    "language_info": {
      "name": "python"
    }
  },
  "nbformat": 4,
  "nbformat_minor": 0
}
